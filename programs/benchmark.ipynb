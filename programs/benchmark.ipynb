{
 "cells": [
  {
   "cell_type": "code",
   "execution_count": 40,
   "metadata": {},
   "outputs": [],
   "source": [
    "from __future__ import annotations\n",
    "\n",
    "import argparse\n",
    "import csv\n",
    "import time\n",
    "from pathlib import Path\n",
    "from statistics import mean\n",
    "from typing import Generator, Tuple\n",
    "\n",
    "import clingo\n",
    "import matplotlib.pyplot as plt\n",
    "import pandas as pd\n",
    "import secrets\n",
    "import generator2\n",
    "\n",
    "def run_clingo(h: int, w: int, d: int, program: Path) -> float:\n",
    "    seed = secrets.randbelow(2**31)\n",
    "    start = time.perf_counter()\n",
    "    ctl = clingo.Control([\"-c\", f\"height={h}\", \"-c\", f\"width={w}\", \"-c\", f\"depth={d}\", \"--rand-freq=1\", \"-t 11\", f\"--seed={str(seed)}\"])\n",
    "    ctl.load(str(program))\n",
    "    ctl.ground([(\"base\", [])])\n",
    "    ctl.solve()\n",
    "    return time.perf_counter() - start\n",
    "\n",
    "def run_gen1(height, width, depth):\n",
    "    return run_clingo(height, width, depth, Path(\"generator22.lp\"))\n",
    "\n",
    "def run_gen2(h: int, w: int, d: int) -> float:\n",
    "    start = time.perf_counter()\n",
    "    generator2.run_generator(h, w, d)\n",
    "    return time.perf_counter() - start\n",
    "\n",
    "def run_solver() -> float:\n",
    "    start = time.perf_counter()\n",
    "    generator2.run_solver()\n",
    "    return time.perf_counter() - start\n",
    "\n",
    "def init_csv(path: Path):\n",
    "    with path.open(\"w\", newline=\"\") as fh:\n",
    "        csv.writer(fh).writerow([\"height\", \"width\", \"depth\", \"run\", \"seconds\", \"size\"])\n",
    "\n",
    "def append_csv(path: Path, h: int, w: int, d: int, run_idx: int, seconds: float):\n",
    "    with path.open(\"a\", newline=\"\") as fh:\n",
    "        csv.writer(fh).writerow([h, w, d, run_idx, f\"{seconds:.6f}\", h * w * d])\n",
    "\n",
    "def aggregate(csv_path: Path) -> pd.DataFrame:\n",
    "    df = pd.read_csv(csv_path)\n",
    "    grp = df.groupby([\"size\"]).agg(mean_seconds=(\"seconds\", mean)).reset_index()\n",
    "    grp.sort_values(\"size\", inplace=True)\n",
    "    return grp\n",
    "\n",
    "def plot_size_vs_time(df: pd.DataFrame, out_svg: Path | None, logscale=True):\n",
    "    fig, ax = plt.subplots()\n",
    "    ax.scatter(df[\"size\"], df[\"mean_seconds\"])\n",
    "\n",
    "    for _, row in df.iterrows():\n",
    "        x = float(row[\"size\"])\n",
    "        y = float(row[\"mean_seconds\"])\n",
    "        ax.annotate(\n",
    "            f\"{int(row['size'])}\",\n",
    "            xy=(x, y),\n",
    "            textcoords=\"offset points\",\n",
    "            xytext=(0, 5),\n",
    "            ha=\"center\",\n",
    "        )\n",
    "\n",
    "    ax.set_xlabel(\"Problem size (H × W × D)\")\n",
    "    if logscale:\n",
    "        ax.set_ylabel(\"Mean runtime (s, log‑scale)\")\n",
    "        ax.set_yscale(\"log\")\n",
    "    else:\n",
    "        ax.set_ylabel(\"Mean runtime (s)\")\n",
    "    ax.set_title(\"Clingo runtime vs. problem size\")\n",
    "    ax.grid(True, which=\"both\", linestyle=\":\", linewidth=0.5)\n",
    "    fig.tight_layout()\n",
    "    if out_svg:\n",
    "        fig.savefig(out_svg, format=\"svg\")\n",
    "        print(f\"Saved plot to {out_svg}\")\n",
    "\n",
    "    plt.show()\n",
    "\n",
    "def run(sizes, csv, gen, solver=None, solver_csv=None, n=10):\n",
    "    total_runs = len(sizes) * n\n",
    "\n",
    "    current = 0\n",
    "    for h, w, d, _ in sizes:\n",
    "        for run_idx in range(1, n + 1):\n",
    "            current += 1\n",
    "\n",
    "            print(\"\\r\", end=\"\", flush=True)\n",
    "\n",
    "            print(f\"[{current}/{total_runs}] h={h} w={w} d={d} run={run_idx} …\", end=\"\", flush=True)\n",
    "\n",
    "            secs = gen(h, w, d)\n",
    "\n",
    "            append_csv(csv, h, w, d, run_idx, secs)\n",
    "            print(f\" {secs:.3f}s\", end=\"\")\n",
    "\n",
    "            if solver is not None:\n",
    "                secs = solver()\n",
    "                append_csv(solver_csv, h, w, d, run_idx, secs)\n",
    "                print(f\"solve={secs:.3f}s\", end=\" \")\n",
    "\n",
    "            print()\n",
    "    "
   ]
  },
  {
   "cell_type": "code",
   "execution_count": 43,
   "metadata": {},
   "outputs": [],
   "source": [
    "CSV_GEN1 = Path(\"results/gen1.csv\")\n",
    "CSV_GEN2 = Path(\"results/gen2.csv\")\n",
    "CSV_SOLVER = Path(\"results/solver.csv\")\n",
    "\n",
    "SVG_GEN1 = Path(\"results/gen1.svg\")\n",
    "SVG_GEN2 = Path(\"results/gen2.svg\")\n",
    "SVG_SOLVER = Path(\"results/solver.svg\")\n",
    "\n",
    "init_csv(CSV_GEN1)\n",
    "init_csv(CSV_GEN2)\n",
    "init_csv(CSV_SOLVER)"
   ]
  },
  {
   "cell_type": "code",
   "execution_count": 8,
   "metadata": {},
   "outputs": [
    {
     "name": "stdout",
     "output_type": "stream",
     "text": [
      "[(2, 2, 2, 8), (2, 2, 3, 12), (2, 2, 4, 16), (2, 3, 3, 18), (2, 2, 5, 20), (2, 2, 6, 24), (2, 3, 4, 24), (3, 3, 3, 27), (2, 3, 5, 30), (2, 4, 4, 32), (2, 3, 6, 36), (3, 3, 4, 36), (2, 4, 5, 40), (3, 3, 5, 45), (2, 4, 6, 48), (3, 4, 4, 48), (2, 5, 5, 50), (3, 3, 6, 54), (2, 5, 6, 60), (3, 4, 5, 60), (4, 4, 4, 64), (2, 6, 6, 72), (3, 4, 6, 72), (3, 5, 5, 75), (4, 4, 5, 80), (3, 5, 6, 90), (4, 4, 6, 96), (4, 5, 5, 100), (3, 6, 6, 108), (4, 5, 6, 120), (5, 5, 5, 125), (4, 6, 6, 144), (5, 5, 6, 150), (5, 6, 6, 180), (6, 6, 6, 216)]\n"
     ]
    }
   ],
   "source": [
    "sizes = []\n",
    "\n",
    "for i in range(2, 7):\n",
    "    for j in range(2, 7):\n",
    "        for h in range(2, 7):\n",
    "            if i <= j <= h:\n",
    "                sizes.append((i, j, h, i*j*h))\n",
    "\n",
    "sizes.sort(key=lambda x: x[3])\n",
    "print(sizes)"
   ]
  },
  {
   "cell_type": "code",
   "execution_count": null,
   "metadata": {},
   "outputs": [
    {
     "name": "stdout",
     "output_type": "stream",
     "text": [
      "[1/10] h=2 w=2 d=2 run=1 … 0.254s\n",
      "[2/10] h=2 w=2 d=2 run=2 … 0.323s\n",
      "[3/10] h=2 w=2 d=2 run=3 … 0.175s\n",
      "[4/10] h=2 w=2 d=2 run=4 … 0.272s\n",
      "[5/10] h=2 w=2 d=2 run=5 … 0.217s\n",
      "[6/10] h=2 w=2 d=2 run=6 … 0.238s\n",
      "[7/10] h=2 w=2 d=2 run=7 … 0.149s\n",
      "[8/10] h=2 w=2 d=2 run=8 … 0.324s\n",
      "[9/10] h=2 w=2 d=2 run=9 … 0.131s\n",
      "[10/10] h=2 w=2 d=2 run=10 … 0.150s\n"
     ]
    }
   ],
   "source": [
    "# Run Gen1\n",
    "run(sizes[0:1], CSV_GEN1, run_gen1, n=10)"
   ]
  },
  {
   "cell_type": "code",
   "execution_count": 45,
   "metadata": {},
   "outputs": [
    {
     "name": "stdout",
     "output_type": "stream",
     "text": [
      "Saved plot to results/gen1.svg\n"
     ]
    },
    {
     "data": {
      "image/png": "[encoded data removed]",
      "text/plain": [
       "<Figure size 640x480 with 1 Axes>"
      ]
     },
     "metadata": {},
     "output_type": "display_data"
    }
   ],
   "source": [
    "df = aggregate(CSV_GEN1)\n",
    "plot_size_vs_time(df, SVG_GEN1)"
   ]
  }
 ],
 "metadata": {
  "kernelspec": {
   "display_name": "env",
   "language": "python",
   "name": "python3"
  },
  "language_info": {
   "codemirror_mode": {
    "name": "ipython",
    "version": 3
   },
   "file_extension": ".py",
   "mimetype": "text/x-python",
   "name": "python",
   "nbconvert_exporter": "python",
   "pygments_lexer": "ipython3",
   "version": "3.12.10"
  }
 },
 "nbformat": 4,
 "nbformat_minor": 2
}
